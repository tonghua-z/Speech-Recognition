{
 "cells": [
  {
   "cell_type": "code",
   "execution_count": 1,
   "metadata": {},
   "outputs": [
    {
     "name": "stderr",
     "output_type": "stream",
     "text": [
      "C:\\Users\\zth\\anaconda3\\lib\\site-packages\\pydub\\utils.py:170: RuntimeWarning: Couldn't find ffmpeg or avconv - defaulting to ffmpeg, but may not work\n",
      "  warn(\"Couldn't find ffmpeg or avconv - defaulting to ffmpeg, but may not work\", RuntimeWarning)\n"
     ]
    }
   ],
   "source": [
    "import pydub\n",
    "import numpy as np\n",
    "from python_speech_features import mfcc\n",
    "from pydub.silence import split_on_silence\n",
    "import os\n",
    "from tqdm import tqdm\n",
    "import pickle"
   ]
  },
  {
   "cell_type": "code",
   "execution_count": 2,
   "metadata": {},
   "outputs": [],
   "source": [
    "file = open(\"word_2_mfcc_last_50.pkl\",\"rb\")\n",
    "data_train = pickle.load(file)"
   ]
  },
  {
   "cell_type": "code",
   "execution_count": 7,
   "metadata": {},
   "outputs": [
    {
     "name": "stdout",
     "output_type": "stream",
     "text": [
      "15549\n"
     ]
    }
   ],
   "source": [
    "print(len(data_train))"
   ]
  },
  {
   "cell_type": "code",
   "execution_count": 9,
   "metadata": {},
   "outputs": [
    {
     "name": "stdout",
     "output_type": "stream",
     "text": [
      "[('THE', array([[-481.47333601,   92.37602462,   19.19738747,   17.53179198,\n",
      "          17.88106459,   17.3716071 ,  -12.91331871,   -3.01616216,\n",
      "         -12.8293088 ,   19.19853704,   11.89574218,  -11.87235408,\n",
      "           3.18471505],\n",
      "       [-410.51603379,  119.83364323,   33.17516268,   24.4057289 ,\n",
      "          17.86592549,   22.74166804,  -14.03464394,   -9.58917953,\n",
      "         -26.45046733,    8.25837332,    5.93213673,  -15.28919876,\n",
      "          -1.06649656],\n",
      "       [-370.50936639,  134.94585103,   35.22115735,   25.00524536,\n",
      "          21.09025181,   22.39685652,   -3.96836539,  -11.60831573,\n",
      "         -34.4719043 ,    3.26426227,    4.5975639 ,   -8.37718423,\n",
      "          -6.47990642],\n",
      "       [-292.8109541 ,  108.43973611,   21.66260743,   12.37687005,\n",
      "          22.82855611,    8.80592989,   -5.36273745,  -15.05006514,\n",
      "         -29.9943361 ,    5.81480201,   -3.26193106,   -4.9231562 ,\n",
      "          -4.35982048],\n",
      "       [-197.24468013,  120.67908015,   11.31834043,    3.08535433,\n",
      "          15.93740879,    9.67581845,   -6.97451214,  -22.27598049,\n",
      "         -33.84085602,    6.5873484 ,    3.70748178,   -3.54214719,\n",
      "           2.5765189 ],\n",
      "       [-176.22969609,  130.76797392,   11.6956293 ,    4.28751613,\n",
      "          15.46976554,    9.88770225,   -0.48825844,  -23.40735637,\n",
      "         -30.08831608,    7.34419015,   12.68293802,   -2.64574306,\n",
      "           5.76199468]]))]\n"
     ]
    }
   ],
   "source": [
    "print(list(data_train.items())[:1])"
   ]
  },
  {
   "cell_type": "code",
   "execution_count": 6,
   "metadata": {},
   "outputs": [],
   "source": [
    "def get_mfcc_for_sentence(filename):\n",
    "    x = pydub.AudioSegment.from_file(filename)\n",
    "    # print(x.frame_rate)\n",
    "    mfcc_list = []\n",
    "    audio_chunks = split_on_silence(x, min_silence_len=20, silence_thresh=-33)\n",
    "    for i, chunk in enumerate(audio_chunks):\n",
    "        # print(chunk.frame_rate)\n",
    "        # out_file = \"split_{0}.wav\".format(i)\n",
    "        # print(\"exporting\", out_file)\n",
    "        np_chunk = np.frombuffer(chunk.get_array_of_samples(), dtype=np.int16)\n",
    "        # print(np_chunk.shape)\n",
    "        mfcc_feature = mfcc(np_chunk, samplerate=chunk.frame_rate, winlen=0.01)\n",
    "        mfcc_list.append(mfcc_feature)\n",
    "\n",
    "    return mfcc_list\n",
    "    # samples = chunk.get_array_of_samples()\n",
    "    # samples = np.array(samples)\n",
    "    # samples = samples.reshape(chunk.channels, -1, order='F')\n",
    "    # print(samples)\n",
    "    # chunk.export(out_file, format=\"wav\")"
   ]
  },
  {
   "cell_type": "code",
   "execution_count": 8,
   "metadata": {},
   "outputs": [
    {
     "name": "stderr",
     "output_type": "stream",
     "text": [
      "  0%|                                                                                          | 0/115 [00:00<?, ?it/s]"
     ]
    },
    {
     "name": "stdout",
     "output_type": "stream",
     "text": [
      "['6880', '6925', '7059', '7067', '7078', '7113', '7148', '7178', '7190', '7226', '7264', '7278', '7302', '7312', '7367', '7402', '7447', '7505', '7511', '7517', '7635', '7780', '7794', '7800', '7859', '8014', '8051', '8063', '8088', '8095', '8098', '8108', '8123', '8226', '8238', '8312', '8324', '8419', '8425', '8465', '8468', '8580', '8609', '8629', '8630', '8747', '8770', '8797', '8838', '8975']\n",
      "['data\\\\6880', 'data\\\\6925', 'data\\\\7059', 'data\\\\7067', 'data\\\\7078', 'data\\\\7113', 'data\\\\7148', 'data\\\\7178', 'data\\\\7190', 'data\\\\7226', 'data\\\\7264', 'data\\\\7278', 'data\\\\7302', 'data\\\\7312', 'data\\\\7367', 'data\\\\7402', 'data\\\\7447', 'data\\\\7505', 'data\\\\7511', 'data\\\\7517', 'data\\\\7635', 'data\\\\7780', 'data\\\\7794', 'data\\\\7800', 'data\\\\7859', 'data\\\\8014', 'data\\\\8051', 'data\\\\8063', 'data\\\\8088', 'data\\\\8095', 'data\\\\8098', 'data\\\\8108', 'data\\\\8123', 'data\\\\8226', 'data\\\\8238', 'data\\\\8312', 'data\\\\8324', 'data\\\\8419', 'data\\\\8425', 'data\\\\8465', 'data\\\\8468', 'data\\\\8580', 'data\\\\8609', 'data\\\\8629', 'data\\\\8630', 'data\\\\8747', 'data\\\\8770', 'data\\\\8797', 'data\\\\8838', 'data\\\\8975']\n",
      "['data\\\\6880\\\\216547', 'data\\\\6925\\\\80680', 'data\\\\7059\\\\77897', 'data\\\\7059\\\\77900', 'data\\\\7059\\\\88364', 'data\\\\7067\\\\76047', 'data\\\\7067\\\\76048', 'data\\\\7078\\\\271888', 'data\\\\7113\\\\86041', 'data\\\\7148\\\\59157', 'data\\\\7148\\\\7763', 'data\\\\7148\\\\82991', 'data\\\\7178\\\\34644', 'data\\\\7178\\\\34645', 'data\\\\7190\\\\90542', 'data\\\\7190\\\\90543', 'data\\\\7226\\\\86964', 'data\\\\7226\\\\86965', 'data\\\\7264\\\\92310', 'data\\\\7264\\\\92314', 'data\\\\7264\\\\92316', 'data\\\\7278\\\\104730', 'data\\\\7278\\\\246956', 'data\\\\7278\\\\91083', 'data\\\\7302\\\\86814', 'data\\\\7302\\\\86815', 'data\\\\7312\\\\92432', 'data\\\\7367\\\\86737', 'data\\\\7402\\\\59171', 'data\\\\7402\\\\90848', 'data\\\\7447\\\\91186', 'data\\\\7447\\\\91187', 'data\\\\7505\\\\258958', 'data\\\\7505\\\\258964', 'data\\\\7505\\\\83618', 'data\\\\7511\\\\102419', 'data\\\\7511\\\\102420', 'data\\\\7517\\\\100429', 'data\\\\7517\\\\100437', 'data\\\\7517\\\\100442', 'data\\\\7635\\\\105409', 'data\\\\7635\\\\105661', 'data\\\\7780\\\\274562', 'data\\\\7794\\\\295947', 'data\\\\7794\\\\295948', 'data\\\\7794\\\\295955', 'data\\\\7800\\\\283478', 'data\\\\7800\\\\283492', 'data\\\\7800\\\\283493', 'data\\\\7859\\\\102518', 'data\\\\7859\\\\102519', 'data\\\\7859\\\\102521', 'data\\\\8014\\\\112586', 'data\\\\8014\\\\112602', 'data\\\\8014\\\\280382', 'data\\\\8051\\\\118101', 'data\\\\8051\\\\119902', 'data\\\\8051\\\\295385', 'data\\\\8063\\\\274112', 'data\\\\8063\\\\274115', 'data\\\\8063\\\\274116', 'data\\\\8063\\\\274117', 'data\\\\8088\\\\284756', 'data\\\\8095\\\\274345', 'data\\\\8095\\\\274346', 'data\\\\8095\\\\274348', 'data\\\\8098\\\\275181', 'data\\\\8098\\\\278252', 'data\\\\8098\\\\278278', 'data\\\\8108\\\\274318', 'data\\\\8108\\\\280354', 'data\\\\8108\\\\280359', 'data\\\\8123\\\\275193', 'data\\\\8123\\\\275209', 'data\\\\8123\\\\275216', 'data\\\\8226\\\\274369', 'data\\\\8226\\\\274371', 'data\\\\8238\\\\274553', 'data\\\\8238\\\\283452', 'data\\\\8312\\\\279790', 'data\\\\8312\\\\279791', 'data\\\\8324\\\\286681', 'data\\\\8324\\\\286682', 'data\\\\8324\\\\286683', 'data\\\\8419\\\\286667', 'data\\\\8419\\\\286676', 'data\\\\8419\\\\293469', 'data\\\\8419\\\\293473', 'data\\\\8425\\\\246962', 'data\\\\8425\\\\287387', 'data\\\\8425\\\\291444', 'data\\\\8425\\\\292520', 'data\\\\8465\\\\246940', 'data\\\\8465\\\\246942', 'data\\\\8465\\\\246943', 'data\\\\8465\\\\246947', 'data\\\\8468\\\\286673', 'data\\\\8468\\\\294887', 'data\\\\8468\\\\295198', 'data\\\\8580\\\\287363', 'data\\\\8580\\\\287364', 'data\\\\8609\\\\262281', 'data\\\\8609\\\\283227', 'data\\\\8629\\\\261139', 'data\\\\8629\\\\261140', 'data\\\\8630\\\\305212', 'data\\\\8630\\\\305213', 'data\\\\8747\\\\293952', 'data\\\\8770\\\\295462', 'data\\\\8770\\\\295463', 'data\\\\8770\\\\295465', 'data\\\\8797\\\\294123', 'data\\\\8838\\\\298545', 'data\\\\8838\\\\298546', 'data\\\\8975\\\\270782']\n"
     ]
    },
    {
     "name": "stderr",
     "output_type": "stream",
     "text": [
      "\n"
     ]
    },
    {
     "ename": "FileNotFoundError",
     "evalue": "[WinError 2] 系统找不到指定的文件。",
     "output_type": "error",
     "traceback": [
      "\u001b[1;31m---------------------------------------------------------------------------\u001b[0m",
      "\u001b[1;31mFileNotFoundError\u001b[0m                         Traceback (most recent call last)",
      "\u001b[1;32m<ipython-input-8-287631ff70ed>\u001b[0m in \u001b[0;36m<module>\u001b[1;34m\u001b[0m\n\u001b[0;32m     14\u001b[0m         \u001b[1;32mif\u001b[0m \u001b[0mfile\u001b[0m\u001b[1;33m.\u001b[0m\u001b[0mendswith\u001b[0m\u001b[1;33m(\u001b[0m\u001b[1;34m\".flac\"\u001b[0m\u001b[1;33m)\u001b[0m\u001b[1;33m:\u001b[0m\u001b[1;33m\u001b[0m\u001b[1;33m\u001b[0m\u001b[0m\n\u001b[0;32m     15\u001b[0m             \u001b[0mabs_file\u001b[0m \u001b[1;33m=\u001b[0m \u001b[0mos\u001b[0m\u001b[1;33m.\u001b[0m\u001b[0mpath\u001b[0m\u001b[1;33m.\u001b[0m\u001b[0mjoin\u001b[0m\u001b[1;33m(\u001b[0m\u001b[0mdir\u001b[0m\u001b[1;33m,\u001b[0m\u001b[0mfile\u001b[0m\u001b[1;33m)\u001b[0m\u001b[1;33m\u001b[0m\u001b[1;33m\u001b[0m\u001b[0m\n\u001b[1;32m---> 16\u001b[1;33m             \u001b[0mtraining_data\u001b[0m\u001b[1;33m[\u001b[0m\u001b[0mabs_file\u001b[0m\u001b[1;33m]\u001b[0m \u001b[1;33m=\u001b[0m \u001b[0mget_mfcc_for_sentence\u001b[0m\u001b[1;33m(\u001b[0m\u001b[0mabs_file\u001b[0m\u001b[1;33m)\u001b[0m\u001b[1;33m\u001b[0m\u001b[1;33m\u001b[0m\u001b[0m\n\u001b[0m\u001b[0;32m     17\u001b[0m \u001b[0mprint\u001b[0m\u001b[1;33m(\u001b[0m\u001b[0mlen\u001b[0m\u001b[1;33m(\u001b[0m\u001b[0mtraining_data\u001b[0m\u001b[1;33m)\u001b[0m\u001b[1;33m)\u001b[0m\u001b[1;33m\u001b[0m\u001b[1;33m\u001b[0m\u001b[0m\n\u001b[0;32m     18\u001b[0m \u001b[1;32mwith\u001b[0m \u001b[0mopen\u001b[0m\u001b[1;33m(\u001b[0m\u001b[1;34m'train_data.pkl'\u001b[0m\u001b[1;33m,\u001b[0m\u001b[1;34m\"wb\"\u001b[0m\u001b[1;33m)\u001b[0m \u001b[1;32mas\u001b[0m \u001b[0mtrain_file\u001b[0m\u001b[1;33m:\u001b[0m\u001b[1;33m\u001b[0m\u001b[1;33m\u001b[0m\u001b[0m\n",
      "\u001b[1;32m<ipython-input-6-38cde534ba1b>\u001b[0m in \u001b[0;36mget_mfcc_for_sentence\u001b[1;34m(filename)\u001b[0m\n\u001b[0;32m      1\u001b[0m \u001b[1;32mdef\u001b[0m \u001b[0mget_mfcc_for_sentence\u001b[0m\u001b[1;33m(\u001b[0m\u001b[0mfilename\u001b[0m\u001b[1;33m)\u001b[0m\u001b[1;33m:\u001b[0m\u001b[1;33m\u001b[0m\u001b[1;33m\u001b[0m\u001b[0m\n\u001b[1;32m----> 2\u001b[1;33m     \u001b[0mx\u001b[0m \u001b[1;33m=\u001b[0m \u001b[0mpydub\u001b[0m\u001b[1;33m.\u001b[0m\u001b[0mAudioSegment\u001b[0m\u001b[1;33m.\u001b[0m\u001b[0mfrom_file\u001b[0m\u001b[1;33m(\u001b[0m\u001b[0mfilename\u001b[0m\u001b[1;33m)\u001b[0m\u001b[1;33m\u001b[0m\u001b[1;33m\u001b[0m\u001b[0m\n\u001b[0m\u001b[0;32m      3\u001b[0m     \u001b[1;31m# print(x.frame_rate)\u001b[0m\u001b[1;33m\u001b[0m\u001b[1;33m\u001b[0m\u001b[1;33m\u001b[0m\u001b[0m\n\u001b[0;32m      4\u001b[0m     \u001b[0mmfcc_list\u001b[0m \u001b[1;33m=\u001b[0m \u001b[1;33m[\u001b[0m\u001b[1;33m]\u001b[0m\u001b[1;33m\u001b[0m\u001b[1;33m\u001b[0m\u001b[0m\n\u001b[0;32m      5\u001b[0m     \u001b[0maudio_chunks\u001b[0m \u001b[1;33m=\u001b[0m \u001b[0msplit_on_silence\u001b[0m\u001b[1;33m(\u001b[0m\u001b[0mx\u001b[0m\u001b[1;33m,\u001b[0m \u001b[0mmin_silence_len\u001b[0m\u001b[1;33m=\u001b[0m\u001b[1;36m20\u001b[0m\u001b[1;33m,\u001b[0m \u001b[0msilence_thresh\u001b[0m\u001b[1;33m=\u001b[0m\u001b[1;33m-\u001b[0m\u001b[1;36m33\u001b[0m\u001b[1;33m)\u001b[0m\u001b[1;33m\u001b[0m\u001b[1;33m\u001b[0m\u001b[0m\n",
      "\u001b[1;32m~\\anaconda3\\lib\\site-packages\\pydub\\audio_segment.py\u001b[0m in \u001b[0;36mfrom_file\u001b[1;34m(cls, file, format, codec, parameters, **kwargs)\u001b[0m\n\u001b[0;32m    683\u001b[0m             \u001b[0minfo\u001b[0m \u001b[1;33m=\u001b[0m \u001b[1;32mNone\u001b[0m\u001b[1;33m\u001b[0m\u001b[1;33m\u001b[0m\u001b[0m\n\u001b[0;32m    684\u001b[0m         \u001b[1;32melse\u001b[0m\u001b[1;33m:\u001b[0m\u001b[1;33m\u001b[0m\u001b[1;33m\u001b[0m\u001b[0m\n\u001b[1;32m--> 685\u001b[1;33m             \u001b[0minfo\u001b[0m \u001b[1;33m=\u001b[0m \u001b[0mmediainfo_json\u001b[0m\u001b[1;33m(\u001b[0m\u001b[0morig_file\u001b[0m\u001b[1;33m,\u001b[0m \u001b[0mread_ahead_limit\u001b[0m\u001b[1;33m=\u001b[0m\u001b[0mread_ahead_limit\u001b[0m\u001b[1;33m)\u001b[0m\u001b[1;33m\u001b[0m\u001b[1;33m\u001b[0m\u001b[0m\n\u001b[0m\u001b[0;32m    686\u001b[0m         \u001b[1;32mif\u001b[0m \u001b[0minfo\u001b[0m\u001b[1;33m:\u001b[0m\u001b[1;33m\u001b[0m\u001b[1;33m\u001b[0m\u001b[0m\n\u001b[0;32m    687\u001b[0m             audio_streams = [x for x in info['streams']\n",
      "\u001b[1;32m~\\anaconda3\\lib\\site-packages\\pydub\\utils.py\u001b[0m in \u001b[0;36mmediainfo_json\u001b[1;34m(filepath, read_ahead_limit)\u001b[0m\n\u001b[0;32m    272\u001b[0m \u001b[1;33m\u001b[0m\u001b[0m\n\u001b[0;32m    273\u001b[0m     \u001b[0mcommand\u001b[0m \u001b[1;33m=\u001b[0m \u001b[1;33m[\u001b[0m\u001b[0mprober\u001b[0m\u001b[1;33m,\u001b[0m \u001b[1;34m'-of'\u001b[0m\u001b[1;33m,\u001b[0m \u001b[1;34m'json'\u001b[0m\u001b[1;33m]\u001b[0m \u001b[1;33m+\u001b[0m \u001b[0mcommand_args\u001b[0m\u001b[1;33m\u001b[0m\u001b[1;33m\u001b[0m\u001b[0m\n\u001b[1;32m--> 274\u001b[1;33m     \u001b[0mres\u001b[0m \u001b[1;33m=\u001b[0m \u001b[0mPopen\u001b[0m\u001b[1;33m(\u001b[0m\u001b[0mcommand\u001b[0m\u001b[1;33m,\u001b[0m \u001b[0mstdin\u001b[0m\u001b[1;33m=\u001b[0m\u001b[0mstdin_parameter\u001b[0m\u001b[1;33m,\u001b[0m \u001b[0mstdout\u001b[0m\u001b[1;33m=\u001b[0m\u001b[0mPIPE\u001b[0m\u001b[1;33m,\u001b[0m \u001b[0mstderr\u001b[0m\u001b[1;33m=\u001b[0m\u001b[0mPIPE\u001b[0m\u001b[1;33m)\u001b[0m\u001b[1;33m\u001b[0m\u001b[1;33m\u001b[0m\u001b[0m\n\u001b[0m\u001b[0;32m    275\u001b[0m     \u001b[0moutput\u001b[0m\u001b[1;33m,\u001b[0m \u001b[0mstderr\u001b[0m \u001b[1;33m=\u001b[0m \u001b[0mres\u001b[0m\u001b[1;33m.\u001b[0m\u001b[0mcommunicate\u001b[0m\u001b[1;33m(\u001b[0m\u001b[0minput\u001b[0m\u001b[1;33m=\u001b[0m\u001b[0mstdin_data\u001b[0m\u001b[1;33m)\u001b[0m\u001b[1;33m\u001b[0m\u001b[1;33m\u001b[0m\u001b[0m\n\u001b[0;32m    276\u001b[0m     \u001b[0moutput\u001b[0m \u001b[1;33m=\u001b[0m \u001b[0moutput\u001b[0m\u001b[1;33m.\u001b[0m\u001b[0mdecode\u001b[0m\u001b[1;33m(\u001b[0m\u001b[1;34m\"utf-8\"\u001b[0m\u001b[1;33m,\u001b[0m \u001b[1;34m'ignore'\u001b[0m\u001b[1;33m)\u001b[0m\u001b[1;33m\u001b[0m\u001b[1;33m\u001b[0m\u001b[0m\n",
      "\u001b[1;32m~\\anaconda3\\lib\\subprocess.py\u001b[0m in \u001b[0;36m__init__\u001b[1;34m(self, args, bufsize, executable, stdin, stdout, stderr, preexec_fn, close_fds, shell, cwd, env, universal_newlines, startupinfo, creationflags, restore_signals, start_new_session, pass_fds, encoding, errors, text)\u001b[0m\n\u001b[0;32m    798\u001b[0m                                 \u001b[0mc2pread\u001b[0m\u001b[1;33m,\u001b[0m \u001b[0mc2pwrite\u001b[0m\u001b[1;33m,\u001b[0m\u001b[1;33m\u001b[0m\u001b[1;33m\u001b[0m\u001b[0m\n\u001b[0;32m    799\u001b[0m                                 \u001b[0merrread\u001b[0m\u001b[1;33m,\u001b[0m \u001b[0merrwrite\u001b[0m\u001b[1;33m,\u001b[0m\u001b[1;33m\u001b[0m\u001b[1;33m\u001b[0m\u001b[0m\n\u001b[1;32m--> 800\u001b[1;33m                                 restore_signals, start_new_session)\n\u001b[0m\u001b[0;32m    801\u001b[0m         \u001b[1;32mexcept\u001b[0m\u001b[1;33m:\u001b[0m\u001b[1;33m\u001b[0m\u001b[1;33m\u001b[0m\u001b[0m\n\u001b[0;32m    802\u001b[0m             \u001b[1;31m# Cleanup if the child failed starting.\u001b[0m\u001b[1;33m\u001b[0m\u001b[1;33m\u001b[0m\u001b[1;33m\u001b[0m\u001b[0m\n",
      "\u001b[1;32m~\\anaconda3\\lib\\subprocess.py\u001b[0m in \u001b[0;36m_execute_child\u001b[1;34m(self, args, executable, preexec_fn, close_fds, pass_fds, cwd, env, startupinfo, creationflags, shell, p2cread, p2cwrite, c2pread, c2pwrite, errread, errwrite, unused_restore_signals, unused_start_new_session)\u001b[0m\n\u001b[0;32m   1205\u001b[0m                                          \u001b[0menv\u001b[0m\u001b[1;33m,\u001b[0m\u001b[1;33m\u001b[0m\u001b[1;33m\u001b[0m\u001b[0m\n\u001b[0;32m   1206\u001b[0m                                          \u001b[0mos\u001b[0m\u001b[1;33m.\u001b[0m\u001b[0mfspath\u001b[0m\u001b[1;33m(\u001b[0m\u001b[0mcwd\u001b[0m\u001b[1;33m)\u001b[0m \u001b[1;32mif\u001b[0m \u001b[0mcwd\u001b[0m \u001b[1;32mis\u001b[0m \u001b[1;32mnot\u001b[0m \u001b[1;32mNone\u001b[0m \u001b[1;32melse\u001b[0m \u001b[1;32mNone\u001b[0m\u001b[1;33m,\u001b[0m\u001b[1;33m\u001b[0m\u001b[1;33m\u001b[0m\u001b[0m\n\u001b[1;32m-> 1207\u001b[1;33m                                          startupinfo)\n\u001b[0m\u001b[0;32m   1208\u001b[0m             \u001b[1;32mfinally\u001b[0m\u001b[1;33m:\u001b[0m\u001b[1;33m\u001b[0m\u001b[1;33m\u001b[0m\u001b[0m\n\u001b[0;32m   1209\u001b[0m                 \u001b[1;31m# Child is launched. Close the parent's copy of those pipe\u001b[0m\u001b[1;33m\u001b[0m\u001b[1;33m\u001b[0m\u001b[1;33m\u001b[0m\u001b[0m\n",
      "\u001b[1;31mFileNotFoundError\u001b[0m: [WinError 2] 系统找不到指定的文件。"
     ]
    }
   ],
   "source": [
    "first_level_dirs = []\n",
    "second_level_dirs = []\n",
    "training_data = {}\n",
    "print(os.listdir(\"data\"))\n",
    "for d in os.listdir(\"data\"):\n",
    "    current_dir = os.path.join(\"data\",d)\n",
    "    first_level_dirs.append(current_dir)\n",
    "    for d_second in os.listdir(current_dir):\n",
    "        second_level_dirs.append(os.path.join(current_dir,d_second))\n",
    "print(first_level_dirs)\n",
    "print(second_level_dirs)\n",
    "for dir in tqdm(second_level_dirs):\n",
    "    for file in os.listdir(dir):\n",
    "        if file.endswith(\".flac\"):\n",
    "            abs_file = os.path.join(dir,file)\n",
    "            training_data[abs_file] = get_mfcc_for_sentence(abs_file)\n",
    "print(len(training_data))\n",
    "with open('train_data.pkl',\"wb\") as train_file:\n",
    "    pickle.dump(training_data,train_file)\n",
    "# with open('train_data.pkl',\"rb\") as train_file:\n",
    "#     training_data = pickle.load(train_file)\n",
    "# for i in training_data.keys():\n",
    "#     print(training_data[i][0].shape)"
   ]
  }
 ],
 "metadata": {
  "kernelspec": {
   "display_name": "Python 3",
   "language": "python",
   "name": "python3"
  },
  "language_info": {
   "codemirror_mode": {
    "name": "ipython",
    "version": 3
   },
   "file_extension": ".py",
   "mimetype": "text/x-python",
   "name": "python",
   "nbconvert_exporter": "python",
   "pygments_lexer": "ipython3",
   "version": "3.7.6"
  }
 },
 "nbformat": 4,
 "nbformat_minor": 4
}
